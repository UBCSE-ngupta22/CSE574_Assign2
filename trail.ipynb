{
 "cells": [
  {
   "cell_type": "markdown",
   "metadata": {},
   "source": [
    "## Model Training after Early Stopping"
   ]
  },
  {
   "cell_type": "code",
   "execution_count": 1,
   "metadata": {},
   "outputs": [],
   "source": [
    "# # NN Model\n",
    "# modelAfter = NeuralNetwork()\n",
    "\n",
    "# # Loss function and Optimizer\n",
    "# criterionAfter = nn.BCELoss()\n",
    "# optimizerAfter = optim.Adam(modelAfter.parameters(), lr=0.001)\n",
    "\n",
    "# # Epochs and batch size\n",
    "# epochsAfter = 20\n",
    "# batchSizeAfter = 16\n",
    "\n",
    "# modelTraining(epochsAfter, batchSizeAfter, criterionAfter, optimizerAfter, modelAfter)"
   ]
  },
  {
   "cell_type": "markdown",
   "metadata": {},
   "source": [
    "## Performance Evaluation after Early Stopping"
   ]
  },
  {
   "cell_type": "code",
   "execution_count": 2,
   "metadata": {},
   "outputs": [],
   "source": [
    "# # Performance Evaluation\n",
    "# modelAfter.eval()\n",
    "\n",
    "# # Forward pass disabling Backward propagation\n",
    "# with torch.no_grad():\n",
    "#     outputs = modelAfter(X_test_tensor)\n",
    "#     y_pred = (outputs >= 0.5)\n",
    "#     y_pred = y_pred.float() # Sets False->0 and True->1\n",
    "\n",
    "# # Accuracy\n",
    "# metric = BinaryAccuracy()\n",
    "# accuracy = metric(y_pred, y_test_tensor)\n",
    "# print(f\"Accuracy = {accuracy:.2f}\")"
   ]
  }
 ],
 "metadata": {
  "kernelspec": {
   "display_name": "Python 3",
   "language": "python",
   "name": "python3"
  },
  "language_info": {
   "codemirror_mode": {
    "name": "ipython",
    "version": 3
   },
   "file_extension": ".py",
   "mimetype": "text/x-python",
   "name": "python",
   "nbconvert_exporter": "python",
   "pygments_lexer": "ipython3",
   "version": "3.9.18"
  }
 },
 "nbformat": 4,
 "nbformat_minor": 2
}
